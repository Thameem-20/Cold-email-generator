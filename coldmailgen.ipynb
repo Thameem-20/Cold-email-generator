{
 "cells": [
  {
   "cell_type": "code",
   "execution_count": 4,
   "id": "084dded9-bb60-4d6b-a4a5-12997276338f",
   "metadata": {},
   "outputs": [
    {
     "name": "stdout",
     "output_type": "stream",
     "text": [
      "It's not possible for a person to land on the sun.  The sun is a massive ball of hot, glowing gas and does not have a solid surface. Additionally, the temperatures on the sun are so high (reaching over 5,500°C or 10,000°F) that any living organism or spacecraft would immediately vaporize.\n"
     ]
    }
   ],
   "source": [
    "from langchain_groq import ChatGroq\n",
    "\n",
    "llm = ChatGroq(\n",
    "    model=\"llama-3.1-70b-versatile\",\n",
    "    groq_api_key='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',\n",
    "    temperature=0,\n",
    ")\n",
    "\n",
    "response = llm.invoke(\"The first person to land on sun was...\")\n",
    "print(response.content)"
   ]
  },
  {
   "cell_type": "code",
   "execution_count": null,
   "id": "c27cda8e-7e6c-474c-93f0-38d57bb4e200",
   "metadata": {},
   "outputs": [],
   "source": []
  }
 ],
 "metadata": {
  "kernelspec": {
   "display_name": "Python 3 (ipykernel)",
   "language": "python",
   "name": "python3"
  },
  "language_info": {
   "codemirror_mode": {
    "name": "ipython",
    "version": 3
   },
   "file_extension": ".py",
   "mimetype": "text/x-python",
   "name": "python",
   "nbconvert_exporter": "python",
   "pygments_lexer": "ipython3",
   "version": "3.12.1"
  }
 },
 "nbformat": 4,
 "nbformat_minor": 5
}
